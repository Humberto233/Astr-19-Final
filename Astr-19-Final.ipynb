{
 "cells": [
  {
   "cell_type": "code",
   "execution_count": null,
   "metadata": {},
   "outputs": [],
   "source": [
    "import numpy as np\n",
    "import sep\n",
    "\n",
    "from astropy.io import fits\n",
    "import matplotlib.pyplot as plt\n",
    "from matplotlib.patches import Ellipse\n",
    "from matplotlib import rcParams\n",
    "\n",
    "%matplotlib inline\n",
    "\n",
    "rcParams['figure.figsize'] = [10., 8.]\n",
    "\n",
    "with fits.open(\"../data/image.fits\") as hdul:\n",
    "    data = hdul[0].data\n",
    "\n",
    "# Display the image\n",
    "m, s = np.mean(data), np.std(data)\n",
    "plt.imshow(data, interpolation='nearest', cmap='gray', vmin=m-s, vmax=m+s, origin='lower')\n",
    "plt.colorbar()\n",
    "plt.title(\"Input Image\");\n",
    "\n",
    "# Estimate and plot the background\n",
    "bkg = sep.Background(data)\n",
    "print(f\"Global background: {bkg.globalback}\")\n",
    "print(f\"Global RMS: {bkg.globalrms}\")\n",
    "\n",
    "# Background image\n",
    "bkg_image = bkg.back()\n",
    "plt.imshow(bkg_image, interpolation='nearest', cmap='gray', origin='lower')\n",
    "plt.colorbar()\n",
    "plt.title(\"Background Image\");\n",
    "\n",
    "bkg_rms = bkg.rms()\n",
    "plt.imshow(bkg_rms, interpolation='nearest', cmap='gray', origin='lower')\n",
    "plt.colorbar()\n",
    "plt.title(\"Background RMS\");\n",
    "\n",
    "# Subtract the background from the data\n",
    "data_sub = data - bkg\n",
    "\n",
    "# Object detection\n",
    "objects = sep.extract(data_sub, 1.5, err=bkg.globalrms)\n",
    "print(f\"Number of objects detected: {len(objects)}\")\n",
    "\n",
    "# Plot the detected objects\n",
    "fig, ax = plt.subplots()\n",
    "m, s = np.mean(data_sub), np.std(data_sub)\n",
    "im = ax.imshow(data_sub, interpolation='nearest', cmap='gray',\n",
    "               vmin=m-s, vmax=m+s, origin='lower')\n",
    "\n",
    "# Overlay the ellipses for the detected objects\n",
    "for obj in objects:\n",
    "    e = Ellipse(xy=(obj['x'], obj['y']),\n",
    "                width=6*obj['a'],\n",
    "                height=6*obj['b'],\n",
    "                angle=obj['theta'] * 180. / np.pi)\n",
    "    e.set_facecolor('none')\n",
    "    e.set_edgecolor('red')\n",
    "    ax.add_artist(e)\n",
    "\n",
    "plt.title(\"Detected Objects\");\n",
    "\n",
    "# the aperture photometry\n",
    "flux, fluxerr, flag = sep.sum_circle(data_sub, objects['x'], objects['y'],\n",
    "                                     3.0, err=bkg.globalrms, gain=1.0)\n",
    "\n",
    "for i in range(min(10, len(flux))):\n",
    "    print(f\"Object {i}: flux = {flux[i]:.2f} ± {fluxerr[i]:.2f}\")\n",
    "\n",
    "print(\"Object properties:\", objects.dtype.names)\n"
   ]
  }
 ],
 "metadata": {
  "kernelspec": {
   "display_name": "Python 3.9.12 ('base')",
   "language": "python",
   "name": "python3"
  },
  "language_info": {
   "codemirror_mode": {
    "name": "ipython",
    "version": 3
   },
   "file_extension": ".py",
   "mimetype": "text/x-python",
   "name": "python",
   "nbconvert_exporter": "python",
   "pygments_lexer": "ipython3",
   "version": "3.9.12"
  },
  "orig_nbformat": 4,
  "vscode": {
   "interpreter": {
    "hash": "1227522307e1ea3011ccaed148464f057b6c25a3260514ba30b63e9651bac52a"
   }
  }
 },
 "nbformat": 4,
 "nbformat_minor": 2
}
